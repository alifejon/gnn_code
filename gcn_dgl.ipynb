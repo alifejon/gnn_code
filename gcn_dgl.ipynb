{
 "cells": [
  {
   "cell_type": "code",
   "execution_count": 12,
   "metadata": {},
   "outputs": [
    {
     "data": {
      "text/html": [
       "<style>.container { width:100% !important; }</style>"
      ],
      "text/plain": [
       "<IPython.core.display.HTML object>"
      ]
     },
     "metadata": {},
     "output_type": "display_data"
    }
   ],
   "source": [
    "from IPython.core.display import display, HTML\n",
    "display(HTML(\"<style>.container { width:100% !important; }</style>\"))"
   ]
  },
  {
   "cell_type": "markdown",
   "metadata": {},
   "source": [
    "## Graph Convolutional Network\n",
    "\n",
    "https://docs.dgl.ai/en/latest/tutorials/models/1_gnn/1_gcn.html"
   ]
  },
  {
   "cell_type": "code",
   "execution_count": 2,
   "metadata": {},
   "outputs": [
    {
     "name": "stdout",
     "output_type": "stream",
     "text": [
      "Collecting package metadata (current_repodata.json): done\n",
      "Solving environment: done\n",
      "\n",
      "## Package Plan ##\n",
      "\n",
      "  environment location: /home/jongoon/anaconda3\n",
      "\n",
      "  added / updated specs:\n",
      "    - dgl\n",
      "\n",
      "\n",
      "The following packages will be downloaded:\n",
      "\n",
      "    package                    |            build\n",
      "    ---------------------------|-----------------\n",
      "    dgl-0.5.3                  |           py38_0         3.4 MB  dglteam\n",
      "    ------------------------------------------------------------\n",
      "                                           Total:         3.4 MB\n",
      "\n",
      "The following NEW packages will be INSTALLED:\n",
      "\n",
      "  dgl                dglteam/linux-64::dgl-0.5.3-py38_0\n",
      "\n",
      "\n",
      "\n",
      "Downloading and Extracting Packages\n",
      "dgl-0.5.3            | 3.4 MB    | ##################################### | 100% \n",
      "Preparing transaction: done\n",
      "Verifying transaction: done\n",
      "Executing transaction: done\n"
     ]
    }
   ],
   "source": [
    "!conda install -y -c dglteam dgl "
   ]
  },
  {
   "cell_type": "code",
   "execution_count": 3,
   "metadata": {},
   "outputs": [
    {
     "name": "stdout",
     "output_type": "stream",
     "text": [
      "Collecting package metadata (current_repodata.json): done\n",
      "Solving environment: done\n",
      "\n",
      "## Package Plan ##\n",
      "\n",
      "  environment location: /home/jongoon/anaconda3\n",
      "\n",
      "  added / updated specs:\n",
      "    - cpuonly\n",
      "    - pytorch\n",
      "    - torchaudio\n",
      "    - torchvision\n",
      "\n",
      "\n",
      "The following packages will be downloaded:\n",
      "\n",
      "    package                    |            build\n",
      "    ---------------------------|-----------------\n",
      "    cpuonly-1.0                |                0           2 KB  pytorch\n",
      "    libuv-1.40.0               |       h7b6447c_0         736 KB\n",
      "    ninja-1.10.2               |   py38hff7bd54_0         1.4 MB\n",
      "    pytorch-1.7.1              |      py3.8_cpu_0        59.5 MB  pytorch\n",
      "    torchaudio-0.7.2           |             py38         9.8 MB  pytorch\n",
      "    torchvision-0.8.2          |         py38_cpu        17.2 MB  pytorch\n",
      "    ------------------------------------------------------------\n",
      "                                           Total:        88.7 MB\n",
      "\n",
      "The following NEW packages will be INSTALLED:\n",
      "\n",
      "  cpuonly            pytorch/noarch::cpuonly-1.0-0\n",
      "  libuv              pkgs/main/linux-64::libuv-1.40.0-h7b6447c_0\n",
      "  ninja              pkgs/main/linux-64::ninja-1.10.2-py38hff7bd54_0\n",
      "  pytorch            pytorch/linux-64::pytorch-1.7.1-py3.8_cpu_0\n",
      "  torchaudio         pytorch/linux-64::torchaudio-0.7.2-py38\n",
      "  torchvision        pytorch/linux-64::torchvision-0.8.2-py38_cpu\n",
      "\n",
      "\n",
      "\n",
      "Downloading and Extracting Packages\n",
      "libuv-1.40.0         | 736 KB    | ##################################### | 100% \n",
      "ninja-1.10.2         | 1.4 MB    | ##################################### | 100% \n",
      "cpuonly-1.0          | 2 KB      | ##################################### | 100% \n",
      "torchvision-0.8.2    | 17.2 MB   | ##################################### | 100% \n",
      "pytorch-1.7.1        | 59.5 MB   | ##################################### | 100% \n",
      "torchaudio-0.7.2     | 9.8 MB    | ##################################### | 100% \n",
      "Preparing transaction: done\n",
      "Verifying transaction: done\n",
      "Executing transaction: done\n",
      "\n",
      "Note: you may need to restart the kernel to use updated packages.\n"
     ]
    }
   ],
   "source": [
    "conda install -y pytorch torchvision torchaudio cpuonly -c pytorch"
   ]
  },
  {
   "cell_type": "code",
   "execution_count": 4,
   "metadata": {},
   "outputs": [
    {
     "name": "stderr",
     "output_type": "stream",
     "text": [
      "DGL backend not selected or invalid.  Assuming PyTorch for now.\n",
      "Using backend: pytorch\n"
     ]
    },
    {
     "name": "stdout",
     "output_type": "stream",
     "text": [
      "Setting the default backend to \"pytorch\". You can change it in the ~/.dgl/config.json file or export the DGLBACKEND environment variable.  Valid options are: pytorch, mxnet, tensorflow (all lowercase)\n"
     ]
    }
   ],
   "source": [
    "import dgl\n",
    "import dgl.function as fn\n",
    "import torch as th\n",
    "import torch.nn as nn\n",
    "import torch.nn.functional as F\n",
    "from dgl import DGLGraph\n",
    "\n",
    "gcn_msg = fn.copy_u(u='h', out='m')\n",
    "gcn_reduce = fn.sum(msg='m', out='h')"
   ]
  },
  {
   "cell_type": "code",
   "execution_count": 7,
   "metadata": {},
   "outputs": [],
   "source": [
    "class GCNLayer(nn.Module):\n",
    "    def __init__(self, in_feats, out_feats):\n",
    "        super(GCNLayer, self).__init__()\n",
    "        self.linear = nn.Linear(in_feats, out_feats)\n",
    "\n",
    "    def forward(self, g, feature):\n",
    "        # Creating a local scope so that all the stored ndata and edata\n",
    "        # (such as the `'h'` ndata below) are automatically popped out\n",
    "        # when the scope exits.\n",
    "        with g.local_scope():\n",
    "            g.ndata['h'] = feature\n",
    "            g.update_all(gcn_msg, gcn_reduce)\n",
    "            h = g.ndata['h']\n",
    "            return self.linear(h)"
   ]
  },
  {
   "cell_type": "code",
   "execution_count": 8,
   "metadata": {},
   "outputs": [
    {
     "name": "stdout",
     "output_type": "stream",
     "text": [
      "Net(\n",
      "  (layer1): GCNLayer(\n",
      "    (linear): Linear(in_features=1433, out_features=16, bias=True)\n",
      "  )\n",
      "  (layer2): GCNLayer(\n",
      "    (linear): Linear(in_features=16, out_features=7, bias=True)\n",
      "  )\n",
      ")\n"
     ]
    }
   ],
   "source": [
    "class Net(nn.Module):\n",
    "    def __init__(self):\n",
    "        super(Net, self).__init__()\n",
    "        self.layer1 = GCNLayer(1433, 16)\n",
    "        self.layer2 = GCNLayer(16, 7)\n",
    "\n",
    "    def forward(self, g, features):\n",
    "        x = F.relu(self.layer1(g, features))\n",
    "        x = self.layer2(g, x)\n",
    "        return x\n",
    "net = Net()\n",
    "print(net)"
   ]
  },
  {
   "cell_type": "code",
   "execution_count": 9,
   "metadata": {},
   "outputs": [],
   "source": [
    "from dgl.data import CoraGraphDataset\n",
    "def load_cora_data():\n",
    "    dataset = CoraGraphDataset()\n",
    "    g = dataset[0]\n",
    "    features = g.ndata['feat']\n",
    "    labels = g.ndata['label']\n",
    "    train_mask = g.ndata['train_mask']\n",
    "    test_mask = g.ndata['test_mask']\n",
    "    return g, features, labels, train_mask, test_mask"
   ]
  },
  {
   "cell_type": "code",
   "execution_count": 10,
   "metadata": {},
   "outputs": [],
   "source": [
    "def evaluate(model, g, features, labels, mask):\n",
    "    model.eval()\n",
    "    with th.no_grad():\n",
    "        logits = model(g, features)\n",
    "        logits = logits[mask]\n",
    "        labels = labels[mask]\n",
    "        _, indices = th.max(logits, dim=1)\n",
    "        correct = th.sum(indices == labels)\n",
    "        return correct.item() * 1.0 / len(labels)"
   ]
  },
  {
   "cell_type": "code",
   "execution_count": 11,
   "metadata": {},
   "outputs": [
    {
     "name": "stdout",
     "output_type": "stream",
     "text": [
      "Downloading /home/jongoon/.dgl/cora_v2.zip from https://data.dgl.ai/dataset/cora_v2.zip...\n",
      "Extracting file to /home/jongoon/.dgl/cora_v2\n",
      "Finished data loading and preprocessing.\n",
      "  NumNodes: 2708\n",
      "  NumEdges: 10556\n",
      "  NumFeats: 1433\n",
      "  NumClasses: 7\n",
      "  NumTrainingSamples: 140\n",
      "  NumValidationSamples: 500\n",
      "  NumTestSamples: 1000\n",
      "Done saving data into cached files.\n",
      "Epoch 00000 | Loss 1.9642 | Test Acc 0.1570 | Time(s) nan\n",
      "Epoch 00001 | Loss 1.8847 | Test Acc 0.2110 | Time(s) nan\n",
      "Epoch 00002 | Loss 1.7809 | Test Acc 0.3630 | Time(s) nan\n"
     ]
    },
    {
     "name": "stderr",
     "output_type": "stream",
     "text": [
      "/home/jongoon/anaconda3/lib/python3.8/site-packages/numpy/core/fromnumeric.py:3372: RuntimeWarning: Mean of empty slice.\n",
      "  return _methods._mean(a, axis=axis, dtype=dtype,\n",
      "/home/jongoon/anaconda3/lib/python3.8/site-packages/numpy/core/_methods.py:170: RuntimeWarning: invalid value encountered in double_scalars\n",
      "  ret = ret.dtype.type(ret / rcount)\n"
     ]
    },
    {
     "name": "stdout",
     "output_type": "stream",
     "text": [
      "Epoch 00003 | Loss 1.6539 | Test Acc 0.4810 | Time(s) 0.0265\n",
      "Epoch 00004 | Loss 1.5305 | Test Acc 0.5620 | Time(s) 0.0245\n",
      "Epoch 00005 | Loss 1.4035 | Test Acc 0.6290 | Time(s) 0.0231\n",
      "Epoch 00006 | Loss 1.2887 | Test Acc 0.6550 | Time(s) 0.0225\n",
      "Epoch 00007 | Loss 1.1876 | Test Acc 0.6620 | Time(s) 0.0224\n",
      "Epoch 00008 | Loss 1.0948 | Test Acc 0.6760 | Time(s) 0.0219\n",
      "Epoch 00009 | Loss 1.0076 | Test Acc 0.6960 | Time(s) 0.0215\n",
      "Epoch 00010 | Loss 0.9258 | Test Acc 0.7170 | Time(s) 0.0217\n",
      "Epoch 00011 | Loss 0.8506 | Test Acc 0.7280 | Time(s) 0.0216\n",
      "Epoch 00012 | Loss 0.7808 | Test Acc 0.7300 | Time(s) 0.0215\n",
      "Epoch 00013 | Loss 0.7146 | Test Acc 0.7270 | Time(s) 0.0214\n",
      "Epoch 00014 | Loss 0.6557 | Test Acc 0.7290 | Time(s) 0.0214\n",
      "Epoch 00015 | Loss 0.6046 | Test Acc 0.7290 | Time(s) 0.0213\n",
      "Epoch 00016 | Loss 0.5562 | Test Acc 0.7400 | Time(s) 0.0213\n",
      "Epoch 00017 | Loss 0.5094 | Test Acc 0.7420 | Time(s) 0.0212\n",
      "Epoch 00018 | Loss 0.4657 | Test Acc 0.7490 | Time(s) 0.0215\n",
      "Epoch 00019 | Loss 0.4266 | Test Acc 0.7520 | Time(s) 0.0217\n",
      "Epoch 00020 | Loss 0.3917 | Test Acc 0.7550 | Time(s) 0.0217\n",
      "Epoch 00021 | Loss 0.3587 | Test Acc 0.7640 | Time(s) 0.0219\n",
      "Epoch 00022 | Loss 0.3277 | Test Acc 0.7620 | Time(s) 0.0221\n",
      "Epoch 00023 | Loss 0.2997 | Test Acc 0.7590 | Time(s) 0.0222\n",
      "Epoch 00024 | Loss 0.2749 | Test Acc 0.7590 | Time(s) 0.0221\n",
      "Epoch 00025 | Loss 0.2525 | Test Acc 0.7600 | Time(s) 0.0220\n",
      "Epoch 00026 | Loss 0.2317 | Test Acc 0.7600 | Time(s) 0.0220\n",
      "Epoch 00027 | Loss 0.2122 | Test Acc 0.7600 | Time(s) 0.0220\n",
      "Epoch 00028 | Loss 0.1944 | Test Acc 0.7620 | Time(s) 0.0219\n",
      "Epoch 00029 | Loss 0.1782 | Test Acc 0.7640 | Time(s) 0.0218\n",
      "Epoch 00030 | Loss 0.1634 | Test Acc 0.7590 | Time(s) 0.0217\n",
      "Epoch 00031 | Loss 0.1497 | Test Acc 0.7570 | Time(s) 0.0216\n",
      "Epoch 00032 | Loss 0.1372 | Test Acc 0.7560 | Time(s) 0.0218\n",
      "Epoch 00033 | Loss 0.1258 | Test Acc 0.7530 | Time(s) 0.0221\n",
      "Epoch 00034 | Loss 0.1154 | Test Acc 0.7480 | Time(s) 0.0222\n",
      "Epoch 00035 | Loss 0.1059 | Test Acc 0.7470 | Time(s) 0.0223\n",
      "Epoch 00036 | Loss 0.0973 | Test Acc 0.7450 | Time(s) 0.0224\n",
      "Epoch 00037 | Loss 0.0896 | Test Acc 0.7460 | Time(s) 0.0225\n",
      "Epoch 00038 | Loss 0.0824 | Test Acc 0.7470 | Time(s) 0.0226\n",
      "Epoch 00039 | Loss 0.0759 | Test Acc 0.7480 | Time(s) 0.0228\n",
      "Epoch 00040 | Loss 0.0699 | Test Acc 0.7500 | Time(s) 0.0229\n",
      "Epoch 00041 | Loss 0.0645 | Test Acc 0.7480 | Time(s) 0.0230\n",
      "Epoch 00042 | Loss 0.0594 | Test Acc 0.7430 | Time(s) 0.0231\n",
      "Epoch 00043 | Loss 0.0548 | Test Acc 0.7460 | Time(s) 0.0232\n",
      "Epoch 00044 | Loss 0.0506 | Test Acc 0.7480 | Time(s) 0.0233\n",
      "Epoch 00045 | Loss 0.0468 | Test Acc 0.7490 | Time(s) 0.0233\n",
      "Epoch 00046 | Loss 0.0433 | Test Acc 0.7490 | Time(s) 0.0233\n",
      "Epoch 00047 | Loss 0.0401 | Test Acc 0.7500 | Time(s) 0.0233\n",
      "Epoch 00048 | Loss 0.0372 | Test Acc 0.7500 | Time(s) 0.0234\n",
      "Epoch 00049 | Loss 0.0345 | Test Acc 0.7510 | Time(s) 0.0235\n"
     ]
    }
   ],
   "source": [
    "import time\n",
    "import numpy as np\n",
    "g, features, labels, train_mask, test_mask = load_cora_data()\n",
    "# Add edges between each node and itself to preserve old node representations\n",
    "g.add_edges(g.nodes(), g.nodes())\n",
    "optimizer = th.optim.Adam(net.parameters(), lr=1e-2)\n",
    "dur = []\n",
    "for epoch in range(50):\n",
    "    if epoch >=3:\n",
    "        t0 = time.time()\n",
    "\n",
    "    net.train()\n",
    "    logits = net(g, features)\n",
    "    logp = F.log_softmax(logits, 1)\n",
    "    loss = F.nll_loss(logp[train_mask], labels[train_mask])\n",
    "\n",
    "    optimizer.zero_grad()\n",
    "    loss.backward()\n",
    "    optimizer.step()\n",
    "\n",
    "    if epoch >=3:\n",
    "        dur.append(time.time() - t0)\n",
    "\n",
    "    acc = evaluate(net, g, features, labels, test_mask)\n",
    "    print(\"Epoch {:05d} | Loss {:.4f} | Test Acc {:.4f} | Time(s) {:.4f}\".format(\n",
    "            epoch, loss.item(), acc, np.mean(dur)))"
   ]
  }
 ],
 "metadata": {
  "kernelspec": {
   "display_name": "Python 3",
   "language": "python",
   "name": "python3"
  },
  "language_info": {
   "codemirror_mode": {
    "name": "ipython",
    "version": 3
   },
   "file_extension": ".py",
   "mimetype": "text/x-python",
   "name": "python",
   "nbconvert_exporter": "python",
   "pygments_lexer": "ipython3",
   "version": "3.8.5"
  }
 },
 "nbformat": 4,
 "nbformat_minor": 4
}
