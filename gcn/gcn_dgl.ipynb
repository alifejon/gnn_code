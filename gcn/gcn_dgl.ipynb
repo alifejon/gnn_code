{
 "cells": [
  {
   "cell_type": "code",
   "execution_count": 12,
   "source": [
    "from IPython.core.display import display, HTML\r\n",
    "display(HTML(\"<style>.container { width:100% !important; }</style>\"))"
   ],
   "outputs": [
    {
     "output_type": "display_data",
     "data": {
      "text/html": [
       "<style>.container { width:100% !important; }</style>"
      ],
      "text/plain": [
       "<IPython.core.display.HTML object>"
      ]
     },
     "metadata": {}
    }
   ],
   "metadata": {}
  },
  {
   "cell_type": "markdown",
   "source": [
    "## Graph Convolutional Network\r\n",
    "\r\n",
    "https://docs.dgl.ai/en/latest/tutorials/models/1_gnn/1_gcn.html"
   ],
   "metadata": {}
  },
  {
   "cell_type": "code",
   "execution_count": 7,
   "source": [
    "!pip install -U ipykernel"
   ],
   "outputs": [
    {
     "output_type": "stream",
     "name": "stdout",
     "text": [
      "Collecting ipykernel\n",
      "  Downloading ipykernel-6.4.0-py3-none-any.whl (124 kB)\n",
      "\u001b[K     |████████████████████████████████| 124 kB 13.8 MB/s \n",
      "\u001b[?25hCollecting matplotlib-inline<0.2.0,>=0.1.0\n",
      "  Downloading matplotlib_inline-0.1.3-py3-none-any.whl (8.2 kB)\n",
      "Collecting debugpy<2.0,>=1.0.0\n",
      "  Downloading debugpy-1.4.3-cp38-cp38-manylinux_2_5_x86_64.manylinux1_x86_64.manylinux_2_12_x86_64.manylinux2010_x86_64.whl (1.8 MB)\n",
      "\u001b[K     |████████████████████████████████| 1.8 MB 87.9 MB/s \n",
      "\u001b[?25hRequirement already satisfied, skipping upgrade: tornado<7.0,>=4.2 in /home/jongoon/anaconda3/lib/python3.8/site-packages (from ipykernel) (6.1)\n",
      "Requirement already satisfied, skipping upgrade: jupyter-client<8.0 in /home/jongoon/anaconda3/lib/python3.8/site-packages (from ipykernel) (6.1.7)\n",
      "Requirement already satisfied, skipping upgrade: traitlets<6.0,>=4.1.0 in /home/jongoon/anaconda3/lib/python3.8/site-packages (from ipykernel) (5.0.5)\n",
      "Requirement already satisfied, skipping upgrade: ipython-genutils in /home/jongoon/anaconda3/lib/python3.8/site-packages (from ipykernel) (0.2.0)\n",
      "Collecting ipython<8.0,>=7.23.1\n",
      "  Downloading ipython-7.27.0-py3-none-any.whl (787 kB)\n",
      "\u001b[K     |████████████████████████████████| 787 kB 28.9 MB/s \n",
      "\u001b[?25hRequirement already satisfied, skipping upgrade: jupyter-core>=4.6.0 in /home/jongoon/anaconda3/lib/python3.8/site-packages (from jupyter-client<8.0->ipykernel) (4.6.3)\n",
      "Requirement already satisfied, skipping upgrade: python-dateutil>=2.1 in /home/jongoon/anaconda3/lib/python3.8/site-packages (from jupyter-client<8.0->ipykernel) (2.8.1)\n",
      "Requirement already satisfied, skipping upgrade: pyzmq>=13 in /home/jongoon/anaconda3/lib/python3.8/site-packages (from jupyter-client<8.0->ipykernel) (19.0.2)\n",
      "Requirement already satisfied, skipping upgrade: jedi>=0.16 in /home/jongoon/anaconda3/lib/python3.8/site-packages (from ipython<8.0,>=7.23.1->ipykernel) (0.17.1)\n",
      "Requirement already satisfied, skipping upgrade: prompt-toolkit!=3.0.0,!=3.0.1,<3.1.0,>=2.0.0 in /home/jongoon/anaconda3/lib/python3.8/site-packages (from ipython<8.0,>=7.23.1->ipykernel) (3.0.8)\n",
      "Requirement already satisfied, skipping upgrade: backcall in /home/jongoon/anaconda3/lib/python3.8/site-packages (from ipython<8.0,>=7.23.1->ipykernel) (0.2.0)\n",
      "Requirement already satisfied, skipping upgrade: pexpect>4.3; sys_platform != \"win32\" in /home/jongoon/anaconda3/lib/python3.8/site-packages (from ipython<8.0,>=7.23.1->ipykernel) (4.8.0)\n",
      "Requirement already satisfied, skipping upgrade: pygments in /home/jongoon/anaconda3/lib/python3.8/site-packages (from ipython<8.0,>=7.23.1->ipykernel) (2.7.2)\n",
      "Requirement already satisfied, skipping upgrade: setuptools>=18.5 in /home/jongoon/anaconda3/lib/python3.8/site-packages (from ipython<8.0,>=7.23.1->ipykernel) (50.3.1.post20201107)\n",
      "Requirement already satisfied, skipping upgrade: pickleshare in /home/jongoon/anaconda3/lib/python3.8/site-packages (from ipython<8.0,>=7.23.1->ipykernel) (0.7.5)\n",
      "Requirement already satisfied, skipping upgrade: decorator in /home/jongoon/anaconda3/lib/python3.8/site-packages (from ipython<8.0,>=7.23.1->ipykernel) (4.4.2)\n",
      "Requirement already satisfied, skipping upgrade: six>=1.5 in /home/jongoon/anaconda3/lib/python3.8/site-packages (from python-dateutil>=2.1->jupyter-client<8.0->ipykernel) (1.15.0)\n",
      "Requirement already satisfied, skipping upgrade: parso<0.8.0,>=0.7.0 in /home/jongoon/anaconda3/lib/python3.8/site-packages (from jedi>=0.16->ipython<8.0,>=7.23.1->ipykernel) (0.7.0)\n",
      "Requirement already satisfied, skipping upgrade: wcwidth in /home/jongoon/anaconda3/lib/python3.8/site-packages (from prompt-toolkit!=3.0.0,!=3.0.1,<3.1.0,>=2.0.0->ipython<8.0,>=7.23.1->ipykernel) (0.2.5)\n",
      "Requirement already satisfied, skipping upgrade: ptyprocess>=0.5 in /home/jongoon/anaconda3/lib/python3.8/site-packages (from pexpect>4.3; sys_platform != \"win32\"->ipython<8.0,>=7.23.1->ipykernel) (0.6.0)\n",
      "Installing collected packages: matplotlib-inline, debugpy, ipython, ipykernel\n",
      "  Attempting uninstall: ipython\n",
      "    Found existing installation: ipython 7.19.0\n",
      "    Uninstalling ipython-7.19.0:\n",
      "      Successfully uninstalled ipython-7.19.0\n",
      "  Attempting uninstall: ipykernel\n",
      "    Found existing installation: ipykernel 5.3.4\n",
      "    Uninstalling ipykernel-5.3.4:\n",
      "      Successfully uninstalled ipykernel-5.3.4\n",
      "\u001b[31mERROR: After October 2020 you may experience errors when installing or updating packages. This is because pip will change the way that it resolves dependency conflicts.\n",
      "\n",
      "We recommend you use --use-feature=2020-resolver to test your packages with the new resolver before it becomes the default.\n",
      "\n",
      "spyder 4.1.5 requires pyqt5<5.13; python_version >= \"3\", which is not installed.\n",
      "spyder 4.1.5 requires pyqtwebengine<5.13; python_version >= \"3\", which is not installed.\u001b[0m\n",
      "Successfully installed debugpy-1.4.3 ipykernel-6.4.0 ipython-7.27.0 matplotlib-inline-0.1.3\n"
     ]
    }
   ],
   "metadata": {}
  },
  {
   "cell_type": "code",
   "execution_count": 2,
   "source": [
    "!conda install -y -c dglteam dgl "
   ],
   "outputs": [
    {
     "output_type": "stream",
     "name": "stdout",
     "text": [
      "Collecting package metadata (current_repodata.json): done\n",
      "Solving environment: done\n",
      "\n",
      "## Package Plan ##\n",
      "\n",
      "  environment location: /home/jongoon/anaconda3\n",
      "\n",
      "  added / updated specs:\n",
      "    - dgl\n",
      "\n",
      "\n",
      "The following packages will be downloaded:\n",
      "\n",
      "    package                    |            build\n",
      "    ---------------------------|-----------------\n",
      "    dgl-0.5.3                  |           py38_0         3.4 MB  dglteam\n",
      "    ------------------------------------------------------------\n",
      "                                           Total:         3.4 MB\n",
      "\n",
      "The following NEW packages will be INSTALLED:\n",
      "\n",
      "  dgl                dglteam/linux-64::dgl-0.5.3-py38_0\n",
      "\n",
      "\n",
      "\n",
      "Downloading and Extracting Packages\n",
      "dgl-0.5.3            | 3.4 MB    | ##################################### | 100% \n",
      "Preparing transaction: done\n",
      "Verifying transaction: done\n",
      "Executing transaction: done\n"
     ]
    }
   ],
   "metadata": {}
  },
  {
   "cell_type": "code",
   "execution_count": 3,
   "source": [
    "conda install -y pytorch torchvision torchaudio cpuonly -c pytorch"
   ],
   "outputs": [
    {
     "output_type": "stream",
     "name": "stdout",
     "text": [
      "Collecting package metadata (current_repodata.json): done\n",
      "Solving environment: done\n",
      "\n",
      "## Package Plan ##\n",
      "\n",
      "  environment location: /home/jongoon/anaconda3\n",
      "\n",
      "  added / updated specs:\n",
      "    - cpuonly\n",
      "    - pytorch\n",
      "    - torchaudio\n",
      "    - torchvision\n",
      "\n",
      "\n",
      "The following packages will be downloaded:\n",
      "\n",
      "    package                    |            build\n",
      "    ---------------------------|-----------------\n",
      "    cpuonly-1.0                |                0           2 KB  pytorch\n",
      "    libuv-1.40.0               |       h7b6447c_0         736 KB\n",
      "    ninja-1.10.2               |   py38hff7bd54_0         1.4 MB\n",
      "    pytorch-1.7.1              |      py3.8_cpu_0        59.5 MB  pytorch\n",
      "    torchaudio-0.7.2           |             py38         9.8 MB  pytorch\n",
      "    torchvision-0.8.2          |         py38_cpu        17.2 MB  pytorch\n",
      "    ------------------------------------------------------------\n",
      "                                           Total:        88.7 MB\n",
      "\n",
      "The following NEW packages will be INSTALLED:\n",
      "\n",
      "  cpuonly            pytorch/noarch::cpuonly-1.0-0\n",
      "  libuv              pkgs/main/linux-64::libuv-1.40.0-h7b6447c_0\n",
      "  ninja              pkgs/main/linux-64::ninja-1.10.2-py38hff7bd54_0\n",
      "  pytorch            pytorch/linux-64::pytorch-1.7.1-py3.8_cpu_0\n",
      "  torchaudio         pytorch/linux-64::torchaudio-0.7.2-py38\n",
      "  torchvision        pytorch/linux-64::torchvision-0.8.2-py38_cpu\n",
      "\n",
      "\n",
      "\n",
      "Downloading and Extracting Packages\n",
      "libuv-1.40.0         | 736 KB    | ##################################### | 100% \n",
      "ninja-1.10.2         | 1.4 MB    | ##################################### | 100% \n",
      "cpuonly-1.0          | 2 KB      | ##################################### | 100% \n",
      "torchvision-0.8.2    | 17.2 MB   | ##################################### | 100% \n",
      "pytorch-1.7.1        | 59.5 MB   | ##################################### | 100% \n",
      "torchaudio-0.7.2     | 9.8 MB    | ##################################### | 100% \n",
      "Preparing transaction: done\n",
      "Verifying transaction: done\n",
      "Executing transaction: done\n",
      "\n",
      "Note: you may need to restart the kernel to use updated packages.\n"
     ]
    }
   ],
   "metadata": {}
  },
  {
   "cell_type": "code",
   "execution_count": 1,
   "source": [
    "import dgl\r\n",
    "import dgl.function as fn\r\n",
    "import torch as th\r\n",
    "import torch.nn as nn\r\n",
    "import torch.nn.functional as F\r\n",
    "from dgl import DGLGraph\r\n",
    "\r\n",
    "gcn_msg = fn.copy_u(u='h', out='m')\r\n",
    "gcn_reduce = fn.sum(msg='m', out='h')"
   ],
   "outputs": [
    {
     "output_type": "stream",
     "name": "stderr",
     "text": [
      "Using backend: pytorch\n"
     ]
    }
   ],
   "metadata": {}
  },
  {
   "cell_type": "code",
   "execution_count": 2,
   "source": [
    "class GCNLayer(nn.Module):\r\n",
    "    def __init__(self, in_feats, out_feats):\r\n",
    "        super(GCNLayer, self).__init__()\r\n",
    "        self.linear = nn.Linear(in_feats, out_feats)\r\n",
    "\r\n",
    "    def forward(self, g, feature):\r\n",
    "        # Creating a local scope so that all the stored ndata and edata\r\n",
    "        # (such as the `'h'` ndata below) are automatically popped out\r\n",
    "        # when the scope exits.\r\n",
    "        with g.local_scope():\r\n",
    "            g.ndata['h'] = feature\r\n",
    "            g.update_all(gcn_msg, gcn_reduce)\r\n",
    "            h = g.ndata['h']\r\n",
    "            return self.linear(h)"
   ],
   "outputs": [],
   "metadata": {}
  },
  {
   "cell_type": "code",
   "execution_count": 3,
   "source": [
    "class Net(nn.Module):\r\n",
    "    def __init__(self):\r\n",
    "        super(Net, self).__init__()\r\n",
    "        self.layer1 = GCNLayer(1433, 16)\r\n",
    "        self.layer2 = GCNLayer(16, 7)\r\n",
    "\r\n",
    "    def forward(self, g, features):\r\n",
    "        x = F.relu(self.layer1(g, features))\r\n",
    "        x = self.layer2(g, x)\r\n",
    "        return x\r\n",
    "net = Net()\r\n",
    "print(net)"
   ],
   "outputs": [
    {
     "output_type": "stream",
     "name": "stdout",
     "text": [
      "Net(\n",
      "  (layer1): GCNLayer(\n",
      "    (linear): Linear(in_features=1433, out_features=16, bias=True)\n",
      "  )\n",
      "  (layer2): GCNLayer(\n",
      "    (linear): Linear(in_features=16, out_features=7, bias=True)\n",
      "  )\n",
      ")\n"
     ]
    }
   ],
   "metadata": {}
  },
  {
   "cell_type": "code",
   "execution_count": 4,
   "source": [
    "from dgl.data import CoraGraphDataset\r\n",
    "def load_cora_data():\r\n",
    "    dataset = CoraGraphDataset()\r\n",
    "    g = dataset[0]\r\n",
    "    features = g.ndata['feat']\r\n",
    "    labels = g.ndata['label']\r\n",
    "    train_mask = g.ndata['train_mask']\r\n",
    "    test_mask = g.ndata['test_mask']\r\n",
    "    return g, features, labels, train_mask, test_mask"
   ],
   "outputs": [],
   "metadata": {}
  },
  {
   "cell_type": "code",
   "execution_count": 5,
   "source": [
    "def evaluate(model, g, features, labels, mask):\r\n",
    "    model.eval()\r\n",
    "    with th.no_grad():\r\n",
    "        logits = model(g, features)\r\n",
    "        logits = logits[mask]\r\n",
    "        labels = labels[mask]\r\n",
    "        _, indices = th.max(logits, dim=1)\r\n",
    "        correct = th.sum(indices == labels)\r\n",
    "        return correct.item() * 1.0 / len(labels)"
   ],
   "outputs": [],
   "metadata": {}
  },
  {
   "cell_type": "code",
   "execution_count": 6,
   "source": [
    "import time\r\n",
    "import numpy as np\r\n",
    "g, features, labels, train_mask, test_mask = load_cora_data()\r\n",
    "# Add edges between each node and itself to preserve old node representations\r\n",
    "g.add_edges(g.nodes(), g.nodes())\r\n",
    "optimizer = th.optim.Adam(net.parameters(), lr=1e-2)\r\n",
    "dur = []\r\n",
    "for epoch in range(50):\r\n",
    "    if epoch >=3:\r\n",
    "        t0 = time.time()\r\n",
    "\r\n",
    "    net.train()\r\n",
    "    logits = net(g, features)\r\n",
    "    logp = F.log_softmax(logits, 1)\r\n",
    "    loss = F.nll_loss(logp[train_mask], labels[train_mask])\r\n",
    "\r\n",
    "    optimizer.zero_grad()\r\n",
    "    loss.backward()\r\n",
    "    optimizer.step()\r\n",
    "\r\n",
    "    if epoch >=3:\r\n",
    "        dur.append(time.time() - t0)\r\n",
    "\r\n",
    "    acc = evaluate(net, g, features, labels, test_mask)\r\n",
    "    print(\"Epoch {:05d} | Loss {:.4f} | Test Acc {:.4f} | Time(s) {:.4f}\".format(\r\n",
    "            epoch, loss.item(), acc, np.mean(dur)))"
   ],
   "outputs": [
    {
     "output_type": "stream",
     "name": "stdout",
     "text": [
      "Loading from cache failed, re-processing.\n",
      "Finished data loading and preprocessing.\n",
      "  NumNodes: 2708\n",
      "  NumEdges: 10556\n",
      "  NumFeats: 1433\n",
      "  NumClasses: 7\n",
      "  NumTrainingSamples: 140\n",
      "  NumValidationSamples: 500\n",
      "  NumTestSamples: 1000\n",
      "Done saving data into cached files.\n",
      "Epoch 00000 | Loss 1.9574 | Test Acc 0.2220 | Time(s) nan\n",
      "Epoch 00001 | Loss 1.8155 | Test Acc 0.2840 | Time(s) nan\n",
      "Epoch 00002 | Loss 1.6953 | Test Acc 0.3350 | Time(s) nan\n"
     ]
    },
    {
     "output_type": "stream",
     "name": "stderr",
     "text": [
      "/home/jongoon/anaconda3/lib/python3.8/site-packages/numpy/core/fromnumeric.py:3419: RuntimeWarning: Mean of empty slice.\n",
      "  return _methods._mean(a, axis=axis, dtype=dtype,\n",
      "/home/jongoon/anaconda3/lib/python3.8/site-packages/numpy/core/_methods.py:188: RuntimeWarning: invalid value encountered in double_scalars\n",
      "  ret = ret.dtype.type(ret / rcount)\n"
     ]
    },
    {
     "output_type": "stream",
     "name": "stdout",
     "text": [
      "Epoch 00003 | Loss 1.5821 | Test Acc 0.4790 | Time(s) 0.0144\n",
      "Epoch 00004 | Loss 1.4799 | Test Acc 0.5610 | Time(s) 0.0139\n",
      "Epoch 00005 | Loss 1.3834 | Test Acc 0.6200 | Time(s) 0.0141\n",
      "Epoch 00006 | Loss 1.2904 | Test Acc 0.6740 | Time(s) 0.0138\n",
      "Epoch 00007 | Loss 1.1989 | Test Acc 0.7130 | Time(s) 0.0149\n",
      "Epoch 00008 | Loss 1.1047 | Test Acc 0.7440 | Time(s) 0.0146\n",
      "Epoch 00009 | Loss 1.0160 | Test Acc 0.7460 | Time(s) 0.0150\n",
      "Epoch 00010 | Loss 0.9338 | Test Acc 0.7500 | Time(s) 0.0146\n",
      "Epoch 00011 | Loss 0.8558 | Test Acc 0.7470 | Time(s) 0.0143\n",
      "Epoch 00012 | Loss 0.7808 | Test Acc 0.7360 | Time(s) 0.0142\n",
      "Epoch 00013 | Loss 0.7108 | Test Acc 0.7370 | Time(s) 0.0143\n",
      "Epoch 00014 | Loss 0.6473 | Test Acc 0.7370 | Time(s) 0.0147\n",
      "Epoch 00015 | Loss 0.5875 | Test Acc 0.7450 | Time(s) 0.0145\n",
      "Epoch 00016 | Loss 0.5324 | Test Acc 0.7460 | Time(s) 0.0148\n",
      "Epoch 00017 | Loss 0.4831 | Test Acc 0.7470 | Time(s) 0.0150\n",
      "Epoch 00018 | Loss 0.4378 | Test Acc 0.7510 | Time(s) 0.0149\n",
      "Epoch 00019 | Loss 0.3954 | Test Acc 0.7510 | Time(s) 0.0150\n",
      "Epoch 00020 | Loss 0.3568 | Test Acc 0.7510 | Time(s) 0.0150\n",
      "Epoch 00021 | Loss 0.3228 | Test Acc 0.7530 | Time(s) 0.0148\n",
      "Epoch 00022 | Loss 0.2923 | Test Acc 0.7550 | Time(s) 0.0147\n",
      "Epoch 00023 | Loss 0.2648 | Test Acc 0.7540 | Time(s) 0.0146\n",
      "Epoch 00024 | Loss 0.2400 | Test Acc 0.7570 | Time(s) 0.0146\n",
      "Epoch 00025 | Loss 0.2176 | Test Acc 0.7610 | Time(s) 0.0148\n",
      "Epoch 00026 | Loss 0.1975 | Test Acc 0.7670 | Time(s) 0.0147\n",
      "Epoch 00027 | Loss 0.1793 | Test Acc 0.7680 | Time(s) 0.0149\n",
      "Epoch 00028 | Loss 0.1627 | Test Acc 0.7670 | Time(s) 0.0148\n",
      "Epoch 00029 | Loss 0.1476 | Test Acc 0.7660 | Time(s) 0.0148\n",
      "Epoch 00030 | Loss 0.1339 | Test Acc 0.7650 | Time(s) 0.0147\n",
      "Epoch 00031 | Loss 0.1215 | Test Acc 0.7650 | Time(s) 0.0146\n",
      "Epoch 00032 | Loss 0.1103 | Test Acc 0.7660 | Time(s) 0.0145\n",
      "Epoch 00033 | Loss 0.1001 | Test Acc 0.7670 | Time(s) 0.0144\n",
      "Epoch 00034 | Loss 0.0909 | Test Acc 0.7670 | Time(s) 0.0145\n",
      "Epoch 00035 | Loss 0.0826 | Test Acc 0.7670 | Time(s) 0.0144\n",
      "Epoch 00036 | Loss 0.0750 | Test Acc 0.7630 | Time(s) 0.0143\n",
      "Epoch 00037 | Loss 0.0682 | Test Acc 0.7640 | Time(s) 0.0142\n",
      "Epoch 00038 | Loss 0.0619 | Test Acc 0.7620 | Time(s) 0.0141\n",
      "Epoch 00039 | Loss 0.0563 | Test Acc 0.7630 | Time(s) 0.0141\n",
      "Epoch 00040 | Loss 0.0513 | Test Acc 0.7630 | Time(s) 0.0140\n",
      "Epoch 00041 | Loss 0.0467 | Test Acc 0.7630 | Time(s) 0.0139\n",
      "Epoch 00042 | Loss 0.0426 | Test Acc 0.7630 | Time(s) 0.0139\n",
      "Epoch 00043 | Loss 0.0389 | Test Acc 0.7600 | Time(s) 0.0138\n",
      "Epoch 00044 | Loss 0.0356 | Test Acc 0.7590 | Time(s) 0.0139\n",
      "Epoch 00045 | Loss 0.0326 | Test Acc 0.7600 | Time(s) 0.0138\n",
      "Epoch 00046 | Loss 0.0299 | Test Acc 0.7600 | Time(s) 0.0138\n",
      "Epoch 00047 | Loss 0.0275 | Test Acc 0.7600 | Time(s) 0.0138\n",
      "Epoch 00048 | Loss 0.0253 | Test Acc 0.7590 | Time(s) 0.0137\n",
      "Epoch 00049 | Loss 0.0233 | Test Acc 0.7590 | Time(s) 0.0137\n"
     ]
    }
   ],
   "metadata": {}
  },
  {
   "cell_type": "code",
   "execution_count": null,
   "source": [],
   "outputs": [],
   "metadata": {}
  }
 ],
 "metadata": {
  "kernelspec": {
   "display_name": "Python 3",
   "language": "python",
   "name": "python3"
  },
  "language_info": {
   "name": "python",
   "version": "3.8.5",
   "mimetype": "text/x-python",
   "codemirror_mode": {
    "name": "ipython",
    "version": 3
   },
   "pygments_lexer": "ipython3",
   "nbconvert_exporter": "python",
   "file_extension": ".py"
  }
 },
 "nbformat": 4,
 "nbformat_minor": 4
}